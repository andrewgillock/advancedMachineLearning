{
  "cells": [
    {
      "cell_type": "markdown",
      "metadata": {
        "id": "JKvSB2T_7DSd"
      },
      "source": [
        "<b> MIS 382N: ADVANCED MACHINE LEARNING<b>\n",
        "\n",
        "Assignment 5\n",
        "\n",
        "Total points: 55\n",
        "\n",
        "Due:  to be submitted via Canvas by 11:59 pm, Mon Nov 21st.\n",
        "\n",
        "Your homework should be written in a python notebook. If you prefer, you can work in groups of two. **Please note that only one student per team needs to submit the assignment on Canvas but make sure to include both students' names and UT EIDs.**\n",
        "\n",
        "For any question that requires a handwritten solution, you may upload scanned images of your solution in the notebook or attach them to the assignment . You may write your solution using markdown as well.\n",
        "\n",
        "Please make sure your code runs and the graphs and figures are displayed in your notebook before submitting. (%matplotlib inline)\n",
        "\n",
        "**Additionally, upload any images you plan to incorporate in your notebook as attachments so we can see them in case the uploaded images don't appear properly on our end.**"
      ]
    },
    {
      "cell_type": "markdown",
      "metadata": {
        "id": "c8BTU0m37IUE"
      },
      "source": [
        "**This can be an individual assignment or group of 2. If you choose to do it as a group, please specify who you are working with (name and EID), then only one student should submit the homework. Put your name and eid here.**\n",
        "\n",
        "Name: Andrew Gillock\n",
        "\n",
        "EID: apg2255\n",
        "\n",
        "Name: Benjamin Kanarick\n",
        "\n",
        "EID: bjk2437"
      ]
    },
    {
      "cell_type": "markdown",
      "metadata": {
        "id": "jGfL_nla7Owr"
      },
      "source": [
        "# Question 1: Ensemble Methods [10 pts]\n",
        "Read this [article](https://towardsdatascience.com/catboost-vs-light-gbm-vs-xgboost-5f93620723db) on different boosting methods. Briefly describe the main advantages and disadvantages of  CatBoost as compared to XGBoost."
      ]
    },
    {
      "cell_type": "markdown",
      "metadata": {
        "id": "ffVeiLaguntO"
      },
      "source": [
        "## CatBoost\n",
        "\n",
        "### Advantages\n",
        "\n",
        "An advantage of CatBoost is it's design for categorical data, which means it is able to perform classification and ranking better than most boosting methods. CatBoost shines in its ability to perform one-hot encoding of categorical variables quickly and effectively through the use of the one_hot_max_size parameter. This means that all features containing less than a specified amount of categories are quickly converted into a useable form without having to modify a large number of variables. Furthermore, prediction time of CatBoost models has been known to be significantly faster, have minimal overfitting and tuning time than boosting methods such as XGBoost. These advantages may only be clear when considering a model with lots of categorical features after tuning the one_hot_max_size parameter. \n",
        "\n",
        "### Disadvantages\n",
        "\n",
        "A disadvantage of CatBoost would be its increase in training time due to the algorithm's identification of categorical data. In the article mentioned above, CatBoost had faster training time than XGBoost, but was relatively slower when compared LightGBM. These shortcomings are negligible when considering the overall performance of CatBoost on categorical data. \n",
        "\n",
        "\n",
        "## XGBoost\n",
        "\n",
        "### Advantages\n",
        "\n",
        "An advantage of XGBoost is its history and widespread use, which suggests that learning resources are more prevalent and the community is more familiar with this algorithm. Furthermore, XGBoost can be used for most regression, classification, and ranking objectives desired by most users, and offer great prediction accuracy that is comparable to CatBoost when presented with certain types of data. Another advantage is that regularization can be introduced to XGBoost by modifying the similarity score function used to calculate gain, which determines if pruning should occur.\n",
        "\n",
        "### Disadvantages\n",
        "\n",
        "A disadvantage of XGBoost is its incredibly slow training, prediction, and parameter tuning time. It is simply too slow to consider a gridsearch for each hyperparameter in the model, meaning these parameters are better off being tuned individually. Furthermore, XGBoost offers no hyperparameters specifically for categorical data, which makes it less desirable in situations such as the one presented in the article above where a majority of the data is categorical. "
      ]
    },
    {
      "cell_type": "markdown",
      "metadata": {
        "id": "Q5pwQYRU7dz6"
      },
      "source": [
        "# Question 2 : Ensemble Methods for Classification [25 pts]\n",
        "\n",
        "We look at the following dataset [GiveMeSomeCredit](https://www.kaggle.com/c/GiveMeSomeCredit) for this question. The dataset is extremely large so for this question we only consider a subset of the data which has been provided along with the notebook for this assignment.\n",
        "The task is to predict the probability that someone will experience financial distress in the next two years. The dataset has already been split into train and test sets."
      ]
    },
    {
      "cell_type": "code",
      "execution_count": 1,
      "metadata": {
        "colab": {
          "base_uri": "https://localhost:8080/",
          "height": 288
        },
        "id": "-cvY2yHO8TcQ",
        "outputId": "2939ba7a-0f9b-4574-cb6c-3298b186df5d"
      },
      "outputs": [
        {
          "data": {
            "text/html": [
              "<div>\n",
              "<style scoped>\n",
              "    .dataframe tbody tr th:only-of-type {\n",
              "        vertical-align: middle;\n",
              "    }\n",
              "\n",
              "    .dataframe tbody tr th {\n",
              "        vertical-align: top;\n",
              "    }\n",
              "\n",
              "    .dataframe thead th {\n",
              "        text-align: right;\n",
              "    }\n",
              "</style>\n",
              "<table border=\"1\" class=\"dataframe\">\n",
              "  <thead>\n",
              "    <tr style=\"text-align: right;\">\n",
              "      <th></th>\n",
              "      <th>SeriousDlqin2yrs</th>\n",
              "      <th>RevolvingUtilizationOfUnsecuredLines</th>\n",
              "      <th>age</th>\n",
              "      <th>NumberOfTime30-59DaysPastDueNotWorse</th>\n",
              "      <th>DebtRatio</th>\n",
              "      <th>MonthlyIncome</th>\n",
              "      <th>NumberOfOpenCreditLinesAndLoans</th>\n",
              "      <th>NumberOfTimes90DaysLate</th>\n",
              "      <th>NumberRealEstateLoansOrLines</th>\n",
              "      <th>NumberOfTime60-89DaysPastDueNotWorse</th>\n",
              "      <th>NumberOfDependents</th>\n",
              "    </tr>\n",
              "  </thead>\n",
              "  <tbody>\n",
              "    <tr>\n",
              "      <th>0</th>\n",
              "      <td>0</td>\n",
              "      <td>0.571373</td>\n",
              "      <td>66</td>\n",
              "      <td>0</td>\n",
              "      <td>0.430620</td>\n",
              "      <td>9274.0</td>\n",
              "      <td>10</td>\n",
              "      <td>0</td>\n",
              "      <td>1</td>\n",
              "      <td>0</td>\n",
              "      <td>0.0</td>\n",
              "    </tr>\n",
              "    <tr>\n",
              "      <th>1</th>\n",
              "      <td>0</td>\n",
              "      <td>0.233999</td>\n",
              "      <td>56</td>\n",
              "      <td>0</td>\n",
              "      <td>0.257380</td>\n",
              "      <td>5656.0</td>\n",
              "      <td>12</td>\n",
              "      <td>0</td>\n",
              "      <td>0</td>\n",
              "      <td>0</td>\n",
              "      <td>0.0</td>\n",
              "    </tr>\n",
              "    <tr>\n",
              "      <th>2</th>\n",
              "      <td>0</td>\n",
              "      <td>0.299270</td>\n",
              "      <td>33</td>\n",
              "      <td>0</td>\n",
              "      <td>0.114575</td>\n",
              "      <td>4747.0</td>\n",
              "      <td>8</td>\n",
              "      <td>0</td>\n",
              "      <td>0</td>\n",
              "      <td>0</td>\n",
              "      <td>3.0</td>\n",
              "    </tr>\n",
              "    <tr>\n",
              "      <th>3</th>\n",
              "      <td>0</td>\n",
              "      <td>0.032165</td>\n",
              "      <td>41</td>\n",
              "      <td>0</td>\n",
              "      <td>0.308326</td>\n",
              "      <td>8490.0</td>\n",
              "      <td>8</td>\n",
              "      <td>0</td>\n",
              "      <td>1</td>\n",
              "      <td>0</td>\n",
              "      <td>0.0</td>\n",
              "    </tr>\n",
              "    <tr>\n",
              "      <th>4</th>\n",
              "      <td>0</td>\n",
              "      <td>0.050591</td>\n",
              "      <td>36</td>\n",
              "      <td>0</td>\n",
              "      <td>0.862627</td>\n",
              "      <td>3333.0</td>\n",
              "      <td>8</td>\n",
              "      <td>0</td>\n",
              "      <td>2</td>\n",
              "      <td>0</td>\n",
              "      <td>0.0</td>\n",
              "    </tr>\n",
              "  </tbody>\n",
              "</table>\n",
              "</div>"
            ],
            "text/plain": [
              "   SeriousDlqin2yrs  RevolvingUtilizationOfUnsecuredLines  age  \\\n",
              "0                 0                              0.571373   66   \n",
              "1                 0                              0.233999   56   \n",
              "2                 0                              0.299270   33   \n",
              "3                 0                              0.032165   41   \n",
              "4                 0                              0.050591   36   \n",
              "\n",
              "   NumberOfTime30-59DaysPastDueNotWorse  DebtRatio  MonthlyIncome  \\\n",
              "0                                     0   0.430620         9274.0   \n",
              "1                                     0   0.257380         5656.0   \n",
              "2                                     0   0.114575         4747.0   \n",
              "3                                     0   0.308326         8490.0   \n",
              "4                                     0   0.862627         3333.0   \n",
              "\n",
              "   NumberOfOpenCreditLinesAndLoans  NumberOfTimes90DaysLate  \\\n",
              "0                               10                        0   \n",
              "1                               12                        0   \n",
              "2                                8                        0   \n",
              "3                                8                        0   \n",
              "4                                8                        0   \n",
              "\n",
              "   NumberRealEstateLoansOrLines  NumberOfTime60-89DaysPastDueNotWorse  \\\n",
              "0                             1                                     0   \n",
              "1                             0                                     0   \n",
              "2                             0                                     0   \n",
              "3                             1                                     0   \n",
              "4                             2                                     0   \n",
              "\n",
              "   NumberOfDependents  \n",
              "0                 0.0  \n",
              "1                 0.0  \n",
              "2                 3.0  \n",
              "3                 0.0  \n",
              "4                 0.0  "
            ]
          },
          "execution_count": 1,
          "metadata": {},
          "output_type": "execute_result"
        }
      ],
      "source": [
        "import pandas as pd\n",
        "\n",
        "data = pd.read_csv('hw5_data.csv')\n",
        "data.drop(data.columns[data.columns.str.contains('unnamed',case = False)],axis = 1, inplace = True)\n",
        "data.head()"
      ]
    },
    {
      "cell_type": "code",
      "execution_count": 2,
      "metadata": {
        "colab": {
          "base_uri": "https://localhost:8080/"
        },
        "id": "VCiWKO8k83pd",
        "outputId": "610cd46c-3556-47c0-e4a8-070c98225a8c"
      },
      "outputs": [
        {
          "name": "stdout",
          "output_type": "stream",
          "text": [
            "train (3750, 10) (3750,)\n",
            "test (1250, 10) (1250,)\n"
          ]
        }
      ],
      "source": [
        "from sklearn.model_selection import train_test_split\n",
        "y = data['SeriousDlqin2yrs']\n",
        "X = data.drop(['SeriousDlqin2yrs'],axis=1)\n",
        "X_train, X_test, y_train, y_test = train_test_split(X, y, test_size = 0.25, random_state = 7)\n",
        "\n",
        "print('train',X_train.shape,y_train.shape)\n",
        "print('test',X_test.shape,y_test.shape)"
      ]
    },
    {
      "cell_type": "markdown",
      "metadata": {
        "id": "1J4ptb5l9Bca"
      },
      "source": [
        "In this question, we will compare performance of different ensemble methods for classification problems: [Bagging](https://scikit-learn.org/stable/modules/generated/sklearn.ensemble.BaggingClassifier.html), [AdaBoost](https://scikit-learn.org/stable/modules/generated/sklearn.ensemble.AdaBoostClassifier.html), and [Random Forest](https://scikit-learn.org/stable/modules/generated/sklearn.ensemble.RandomForestClassifier.html) Classifiers.\n",
        "\n",
        "a) **[2.5 pts]** Use a Decision Tree Classifier with random_state = 14 for the classification problem. Report the accuracy_score and roc_auc_score on the test data for the classifier.\n",
        "\n",
        "b) **[2.5 pts]** Create an ensemble of 25 classifiers (i.e n_estimators = 25) with random_state = 14 for [bagging](https://scikit-learn.org/stable/modules/generated/sklearn.ensemble.BaggingClassifier.html) with base classifier as Decision Tree Classifier from part a). Report accuracy_score and roc_auc_score on the test data for the Bagging classifiers. \n",
        "\n",
        "c) **[5 pts]** Use the training data and build a [Random Forest](http://scikit-learn.org/stable/modules/generated/sklearn.ensemble.RandomForestClassifier.html) model for the classification problem. Find the best parameters (including *n_estimators*, *max_features* and *criterion*) using [GridSearchCV](http://scikit-learn.org/stable/modules/generated/sklearn.model_selection.GridSearchCV.html). Report the optimal parameters obtained by GridSearch. Report the confusion matrix  and [roc_auc_score](http://scikit-learn.org/stable/modules/generated/sklearn.metrics.roc_auc_score.html#sklearn.metrics.roc_auc_score) on test data using the model fit with best parameters.\n",
        "\n",
        "d) **[5 pts]** Use [AdaBoost](http://scikit-learn.org/stable/modules/generated/sklearn.ensemble.AdaBoostClassifier.html#sklearn.ensemble.AdaBoostClassifier) for this problem. Again, find the best parameters (including *n_estimators, learning_rate*), and report the confusion matrix and roc_auc_score on test data for the classifier fit with best parameters found using training data.\n",
        "\n",
        "e) **[5 pts]** Use [Gradient Boosting](https://scikit-learn.org/stable/modules/generated/sklearn.ensemble.GradientBoostingClassifier.html) for this problem. Again, find the best parameters (including *n_estimators, learning_rate*), and report the confusion matrix and roc_auc_score on test data for the classifier fit with best parameters found using training data.\n",
        "\n",
        "f) **[5 pts]** Compare the performance of decision tree from part a) with the ensemble methods, Briefly explain which of the three ensemble method performed better and why?"
      ]
    },
    {
      "cell_type": "code",
      "execution_count": 3,
      "metadata": {
        "id": "sbfLYzEESU29"
      },
      "outputs": [],
      "source": [
        "import matplotlib.pyplot as plt\n",
        "from sklearn.model_selection import (train_test_split,GridSearchCV)\n",
        "from sklearn.metrics import (accuracy_score,roc_auc_score)\n",
        "from sklearn.ensemble import (RandomForestClassifier,GradientBoostingClassifier,AdaBoostClassifier)\n",
        "from sklearn.ensemble import RandomForestClassifier, BaggingClassifier\n",
        "from sklearn.metrics import confusion_matrix\n",
        "from sklearn.tree import DecisionTreeClassifier\n",
        "from time import time\n",
        "import warnings\n",
        "warnings.simplefilter(action='ignore', category=FutureWarning)\n",
        "%matplotlib inline"
      ]
    },
    {
      "cell_type": "code",
      "execution_count": 4,
      "metadata": {
        "id": "Db2-Md7SSkn1"
      },
      "outputs": [
        {
          "data": {
            "text/plain": [
              "0    1165\n",
              "1      85\n",
              "Name: SeriousDlqin2yrs, dtype: int64"
            ]
          },
          "execution_count": 4,
          "metadata": {},
          "output_type": "execute_result"
        }
      ],
      "source": [
        "columns_list = list(X.columns)\n",
        "y_test.value_counts()"
      ]
    },
    {
      "cell_type": "code",
      "execution_count": 5,
      "metadata": {
        "id": "X7p84Jd6Sr5c"
      },
      "outputs": [
        {
          "name": "stdout",
          "output_type": "stream",
          "text": [
            "Decision Tree\n",
            "\n",
            "Accuracy Score:  0.888\n",
            "ROC/AUC Score:  0.5854582176218127\n"
          ]
        }
      ],
      "source": [
        "# Part a)\n",
        "\n",
        "# create instance of classifier and fit to training data\n",
        "clf = DecisionTreeClassifier(random_state = 14)\n",
        "clf.fit(X_train, y_train)\n",
        "\n",
        "# predict using test data\n",
        "y_hat = clf.predict(X_test)\n",
        "\n",
        "# report accuracy_score & roc_auc_score\n",
        "print('Decision Tree')\n",
        "print()\n",
        "print('Accuracy Score: ', accuracy_score(y_test, y_hat))\n",
        "print('ROC/AUC Score: ', roc_auc_score(y_test, y_hat))"
      ]
    },
    {
      "cell_type": "code",
      "execution_count": 6,
      "metadata": {
        "id": "eu7882XwSubQ"
      },
      "outputs": [
        {
          "name": "stdout",
          "output_type": "stream",
          "text": [
            "Bagging\n",
            "\n",
            "Accuracy Score:  0.9256\n",
            "ROC/AUC Score:  0.556551375915173\n"
          ]
        }
      ],
      "source": [
        "# Part b)\n",
        "\n",
        "# create instance of classifier and fit to training data\n",
        "clf = BaggingClassifier(random_state = 14, n_estimators= 25)\n",
        "clf.fit(X_train, y_train)\n",
        "\n",
        "# predict on test data\n",
        "y_hat = clf.predict(X_test)\n",
        "\n",
        "# report accuracy_score & roc_auc_score\n",
        "print('Bagging')\n",
        "print()\n",
        "print('Accuracy Score: ', accuracy_score(y_test, y_hat))\n",
        "print('ROC/AUC Score: ', roc_auc_score(y_test, y_hat))"
      ]
    },
    {
      "cell_type": "code",
      "execution_count": 7,
      "metadata": {
        "id": "1PEjQ1fJSxAB"
      },
      "outputs": [
        {
          "name": "stdout",
          "output_type": "stream",
          "text": [
            "Random Forest\n",
            "\n",
            "Best model parameters:  {'criterion': 'entropy', 'max_features': 1, 'n_estimators': 100, 'random_state': 17}\n",
            "Accuracy Score:  0.932\n",
            "ROC/AUC Score:  0.5163595051754608\n",
            "[[1162    3]\n",
            " [  82    3]]\n"
          ]
        }
      ],
      "source": [
        "# Part c)\n",
        "\n",
        "# create instance of RF classifier\n",
        "clf = RandomForestClassifier()\n",
        "\n",
        "param_grid = {\"n_estimators\": [1, 10, 50, 100],\n",
        "              \"max_features\": [1, 5, 10, \"auto\"],\n",
        "              \"criterion\": ['gini','entropy'],\n",
        "              \"random_state\": [17]}\n",
        "\n",
        "# Grid search\n",
        "grid_search = GridSearchCV(estimator = clf, param_grid = param_grid)\n",
        "grid_search.fit(X_train, y_train)\n",
        "\n",
        "# predict on test data using best parameters\n",
        "y_hat = grid_search.predict(X_test)\n",
        "\n",
        "# report best model parameters, accuracy_score & roc_auc_score\n",
        "print('Random Forest')\n",
        "print()\n",
        "print('Best model parameters: ', grid_search.best_params_)\n",
        "print('Accuracy Score: ', accuracy_score(y_test, y_hat))\n",
        "print('ROC/AUC Score: ', roc_auc_score(y_test, y_hat))\n",
        "\n",
        "# print confusion matrix\n",
        "print(confusion_matrix(y_test, y_hat))"
      ]
    },
    {
      "cell_type": "code",
      "execution_count": 8,
      "metadata": {
        "id": "X7cPUJcDwIIe"
      },
      "outputs": [
        {
          "name": "stdout",
          "output_type": "stream",
          "text": [
            "AdaBoost\n",
            "\n",
            "Best model parameters:  {'learning_rate': 0.1, 'n_estimators': 100, 'random_state': 17}\n",
            "Accuracy Score:  0.9328\n",
            "ROC/AUC Score:  0.5713203736430194\n",
            "[[1153   12]\n",
            " [  72   13]]\n"
          ]
        }
      ],
      "source": [
        "# Part d)\n",
        "\n",
        "# create instance of AdaBoost classifier\n",
        "clf = AdaBoostClassifier()\n",
        "\n",
        "param_grid = {\"n_estimators\": [10, 100],\n",
        "          \"learning_rate\": [0.01, 0.1, 0.5],\n",
        "          \"random_state\": [17]\n",
        "          }\n",
        "\n",
        "# Grid search\n",
        "grid_search = GridSearchCV(estimator = clf, param_grid = param_grid)\n",
        "grid_search.fit(X_train, y_train)\n",
        "\n",
        "# predict on test data using best parameters\n",
        "y_hat = grid_search.predict(X_test)\n",
        "\n",
        "# report best model parameters, accuracy_score & roc_auc_score\n",
        "print('AdaBoost')\n",
        "print()\n",
        "print('Best model parameters: ', grid_search.best_params_)\n",
        "print('Accuracy Score: ', accuracy_score(y_test, y_hat))\n",
        "print('ROC/AUC Score: ', roc_auc_score(y_test, y_hat))\n",
        "\n",
        "# print confusion matrix\n",
        "print(confusion_matrix(y_test, y_hat))"
      ]
    },
    {
      "cell_type": "code",
      "execution_count": 9,
      "metadata": {
        "id": "9TsB5OT7_FPW"
      },
      "outputs": [
        {
          "name": "stdout",
          "output_type": "stream",
          "text": [
            "Gradient Boosting\n",
            "\n",
            "Best model parameters:  {'learning_rate': 0.1, 'n_estimators': 10, 'random_state': 17}\n",
            "Accuracy Score:  0.932\n",
            "ROC/AUC Score:  0.5054531683918203\n",
            "[[1164    1]\n",
            " [  84    1]]\n"
          ]
        }
      ],
      "source": [
        "# Part e)\n",
        "\n",
        "clf = GradientBoostingClassifier()\n",
        "\n",
        "param_grid = {\"n_estimators\": [10, 100],\n",
        "          \"learning_rate\": [0.01, 0.1, 0.5],\n",
        "          \"random_state\": [17]\n",
        "          }\n",
        "# Grid search\n",
        "grid_search = GridSearchCV(estimator = clf, param_grid = param_grid)\n",
        "grid_search.fit(X_train, y_train)\n",
        "\n",
        "# predict on test data using best parameters\n",
        "y_hat = grid_search.predict(X_test)\n",
        "\n",
        "# report best model parameters, accuracy_score & roc_auc_score\n",
        "print('Gradient Boosting')\n",
        "print()\n",
        "print('Best model parameters: ', grid_search.best_params_)\n",
        "print('Accuracy Score: ', accuracy_score(y_test, y_hat))\n",
        "print('ROC/AUC Score: ', roc_auc_score(y_test, y_hat))\n",
        "\n",
        "# print confusion matrix\n",
        "print(confusion_matrix(y_test, y_hat))"
      ]
    },
    {
      "cell_type": "markdown",
      "metadata": {},
      "source": [
        "Part f)\n",
        "\n",
        "When comparing the performance of a single decision tree to ensemble methods, it's clear that the ensemble methods achieve better prediction accuracy. This is due to ensemble methods combining the prediction power of multiple decision trees. Interestingly, the single decision tree had the greatest AUC/ROC score but only marginally better than Adaboost.\n",
        "\n",
        "The AdaBoost model performed the best out of the ensemble methods in terms of prediction accuracy. This is likely due to the AdaBoost algorithm, which assigns different weights to each tree based on their residual error. Furthermore, the initial model receives less weight as more improved models are added into the ensemble. This ensures that the strongest learners have the most influence on final classification. AdaBoost tends to utilize decision trees with a single node, also known as a 'stump'. The idea is to combine these high bias stumps, which individually are weak learners, but when combined achieve greater prediction accuracy.\n",
        "\n",
        "We see similar accuracy scores for both the Random Forest and Gradient Boosting models, but neither yield the same benefits as AdaBoost. The RF model seeks to decrease the correlation of decision trees in the ensemble by randomly selecting a subset of *m* features from all predictors *p*. The trees are built independent of one another and do not consider mistakes from previously generated trees. The GB model fits trees to the residuals of the previous tree, meaning each subsequent tree attempts to lower the errors of the former. Additionally, this process is controlled by a tuning parameter that controls the learning rate of each tree. The higher this value, the more influence each tree has in computing the predicted class. AdaBoost works similarly, but can assign different weights to each tree depending on its prediction accuracy. Since AdaBoost utilizes mainly stumps, it is significantly faster than the Random Forest algorithm.\n"
      ]
    },
    {
      "cell_type": "markdown",
      "metadata": {
        "id": "TP9yD4ZEmNAu"
      },
      "source": [
        "# Question 3: XGBoost on Datasets with varying Class Imbalance [15 points]\n",
        "\n",
        "You are given three datasets (all extracted from the [GiveMeSomeCredit](https://www.kaggle.com/c/GiveMeSomeCredit) dataset which was used in the last question). They have varying levels of class imbalance (positive to negative class ratio):\n",
        "1. dataset_equally_biased_final has a class ratio of 1:1\n",
        "2. dataset_originally_biased_final has a class ratio of 1:15\n",
        "3. dataset_highly_biased_final has a class ratio of 1:39\n",
        "\n",
        "Use [XGBoost](https://xgboost.readthedocs.io/en/stable/python/python_api.html) on these three datasets and plot the [calibration curves](https://scikit-learn.org/stable/modules/generated/sklearn.calibration.calibration_curve.html#sklearn.calibration.calibration_curve) for your predictions. Examine both uniform and quantile binning strategies for your plots and observe how the plots look. For which of the datasets is you model calibrated the best? Which of the binning strategies provide more informative visualization for each of the datasets?"
      ]
    },
    {
      "cell_type": "code",
      "execution_count": 13,
      "metadata": {
        "colab": {
          "base_uri": "https://localhost:8080/"
        },
        "id": "VAqA-EyldUwi",
        "outputId": "f3ad6f2e-f8ad-49b2-e3ca-c18e6e0661d6"
      },
      "outputs": [
        {
          "name": "stdout",
          "output_type": "stream",
          "text": [
            "Balanced Dataset\n",
            "0    4000\n",
            "1    4000\n",
            "Name: SeriousDlqin2yrs, dtype: int64\n",
            "0    1000\n",
            "1    1000\n",
            "Name: SeriousDlqin2yrs, dtype: int64\n",
            "Originally Imbalanced Dataset\n",
            "0    7466\n",
            "1     534\n",
            "Name: SeriousDlqin2yrs, dtype: int64\n",
            "0    1866\n",
            "1     134\n",
            "Name: SeriousDlqin2yrs, dtype: int64\n",
            "Highly Imbalanced Dataset\n",
            "0    7800\n",
            "1     200\n",
            "Name: SeriousDlqin2yrs, dtype: int64\n",
            "0    1950\n",
            "1      50\n",
            "Name: SeriousDlqin2yrs, dtype: int64\n"
          ]
        }
      ],
      "source": [
        "from sklearn.model_selection import train_test_split\n",
        "import pandas as pd\n",
        "\n",
        "dataset = pd.read_csv(\"data_equally_biased_final.csv\")\n",
        "X = dataset.drop(['SeriousDlqin2yrs'], axis=1)\n",
        "y = dataset['SeriousDlqin2yrs']\n",
        "X_train1, X_test1, y_train1, y_test1 = train_test_split(X, y, test_size = 0.2, random_state = 15, stratify = y)\n",
        "print(\"Balanced Dataset\")\n",
        "# Number of classes in training Data\n",
        "print(y_train1.value_counts())\n",
        "# Number of classes in test Data\n",
        "print(y_test1.value_counts())\n",
        "\n",
        "dataset = pd.read_csv(\"data_originally_biased_final.csv\")\n",
        "X = dataset.drop(['SeriousDlqin2yrs'], axis=1)\n",
        "y = dataset['SeriousDlqin2yrs']\n",
        "X_train2, X_test2, y_train2, y_test2 = train_test_split(X, y, test_size = 0.2, random_state = 15, stratify = y)\n",
        "print(\"Originally Imbalanced Dataset\")\n",
        "# Number of classes in training Data\n",
        "print(y_train2.value_counts())\n",
        "# Number of classes in test Data\n",
        "print(y_test2.value_counts())\n",
        "\n",
        "dataset = pd.read_csv(\"data_highly_biased_final.csv\")\n",
        "X = dataset.drop(['SeriousDlqin2yrs'], axis=1)\n",
        "y = dataset['SeriousDlqin2yrs']\n",
        "X_train3, X_test3, y_train3, y_test3 = train_test_split(X, y, test_size = 0.2, random_state = 15, stratify = y)\n",
        "print(\"Highly Imbalanced Dataset\")\n",
        "# Number of classes in training Data\n",
        "print(y_train3.value_counts())\n",
        "# Number of classes in test Data\n",
        "print(y_test3.value_counts())"
      ]
    },
    {
      "cell_type": "code",
      "execution_count": 14,
      "metadata": {
        "id": "y4hIXJQUub6R"
      },
      "outputs": [],
      "source": [
        "import matplotlib.pyplot as plt\n",
        "from sklearn.model_selection import (train_test_split,GridSearchCV)\n",
        "from sklearn.metrics import (accuracy_score,roc_auc_score)\n",
        "from sklearn.ensemble import (RandomForestClassifier,GradientBoostingClassifier,AdaBoostClassifier)\n",
        "from sklearn.ensemble import RandomForestClassifier, BaggingClassifier\n",
        "from sklearn.metrics import confusion_matrix\n",
        "from sklearn.tree import DecisionTreeClassifier\n",
        "from time import time\n",
        "import xgboost\n",
        "\n",
        "%matplotlib inline"
      ]
    },
    {
      "cell_type": "code",
      "execution_count": 15,
      "metadata": {
        "colab": {
          "base_uri": "https://localhost:8080/"
        },
        "id": "ylGDD7IjjVp-",
        "outputId": "c76b997a-51be-4ef0-fb18-d7370863ed34"
      },
      "outputs": [
        {
          "name": "stdout",
          "output_type": "stream",
          "text": [
            "Balanced Dataset\n",
            "{'learning_rate': 0.1, 'n_estimators': 100, 'random_state': 17}\n",
            "training time 0.902 s\n",
            "predict time 0.009 s\n",
            "XGBoost conf matrix: \n",
            "[[794 206]\n",
            " [228 772]]\n",
            "Accuracy: 0.783\n",
            " AUC_ROC: 0.856863\n",
            "\n",
            "Originally Imbalanced Dataset\n",
            "{'learning_rate': 0.1, 'n_estimators': 100, 'random_state': 17}\n",
            "training time 0.834 s\n",
            "predict time 0.008 s\n",
            "XGBoost conf matrix: \n",
            "[[1843   23]\n",
            " [ 114   20]]\n",
            "Accuracy: 0.9315\n",
            " AUC_ROC: 0.8342691686263217\n",
            "\n",
            "Highly Imbalanced Dataset\n",
            "{'learning_rate': 0.01, 'n_estimators': 100, 'random_state': 17}\n",
            "training time 0.778 s\n",
            "predict time 0.006 s\n",
            "XGBoost conf matrix: \n",
            "[[1945    5]\n",
            " [  50    0]]\n",
            "Accuracy: 0.9725\n",
            " AUC_ROC: 0.8398564102564102\n",
            "\n"
          ]
        }
      ],
      "source": [
        "# Using the earlier dataset and applying XGBoost on it\n",
        "\n",
        "clf = xgboost.XGBClassifier()\n",
        "\n",
        "param_grid = {\"n_estimators\": [10, 100],\n",
        "          \"learning_rate\": [0.01, 0.1, 0.5],\n",
        "          \"random_state\": [17]\n",
        "          }\n",
        "\n",
        "# Grid search\n",
        "grid_search = GridSearchCV(clf, param_grid=param_grid)\n",
        "\n",
        "# Balanced Dataset\n",
        "print(\"Balanced Dataset\")\n",
        "grid_search.fit(X_train1, y_train1)\n",
        "print(grid_search.best_params_)\n",
        "clf.set_params(**grid_search.best_params_)\n",
        "\n",
        "t0 = time()\n",
        "clf.fit(X_train1, y_train1)\n",
        "print(\"training time\", round(time()-t0, 3), \"s\")\n",
        "\n",
        "t0 = time()\n",
        "y_pred_gbt1 = clf.predict(X_test1)\n",
        "print(\"predict time\", round(time()-t0, 3), \"s\")\n",
        "\n",
        "print(\"XGBoost conf matrix: \")\n",
        "print(confusion_matrix(y_test1, y_pred_gbt1))\n",
        "\n",
        "y_pred_proba1 = clf.predict_proba(X_test1)[:,1]\n",
        "\n",
        "acc_score = accuracy_score(y_test1,y_pred_gbt1)\n",
        "auc_score = roc_auc_score(y_test1,y_pred_proba1)\n",
        "print(\"Accuracy: {}\\n AUC_ROC: {}\\n\".format(acc_score,auc_score))\n",
        "\n",
        "\n",
        "# Originally Imbalanced Dataset\n",
        "\n",
        "print(\"Originally Imbalanced Dataset\")\n",
        "grid_search.fit(X_train2, y_train2)\n",
        "print(grid_search.best_params_)\n",
        "clf.set_params(**grid_search.best_params_)\n",
        "\n",
        "t0 = time()\n",
        "clf.fit(X_train2, y_train2)\n",
        "print(\"training time\", round(time()-t0, 3), \"s\")\n",
        "\n",
        "t0 = time()\n",
        "y_pred_gbt2 = clf.predict(X_test2)\n",
        "print(\"predict time\", round(time()-t0, 3), \"s\")\n",
        "\n",
        "print(\"XGBoost conf matrix: \")\n",
        "print(confusion_matrix(y_test2, y_pred_gbt2))\n",
        "\n",
        "y_pred_proba2 = clf.predict_proba(X_test2)[:,1]\n",
        "\n",
        "acc_score = accuracy_score(y_test2,y_pred_gbt2)\n",
        "auc_score = roc_auc_score(y_test2,y_pred_proba2)\n",
        "print(\"Accuracy: {}\\n AUC_ROC: {}\\n\".format(acc_score,auc_score))\n",
        "\n",
        "# Highly Imalanced Dataset\n",
        "\n",
        "print(\"Highly Imbalanced Dataset\")\n",
        "grid_search.fit(X_train3, y_train3)\n",
        "print(grid_search.best_params_)\n",
        "clf.set_params(**grid_search.best_params_)\n",
        "\n",
        "t0 = time()\n",
        "clf.fit(X_train3, y_train3)\n",
        "print(\"training time\", round(time()-t0, 3), \"s\")\n",
        "\n",
        "t0 = time()\n",
        "y_pred_gbt3 = clf.predict(X_test3)\n",
        "print(\"predict time\", round(time()-t0, 3), \"s\")\n",
        "\n",
        "print(\"XGBoost conf matrix: \")\n",
        "print(confusion_matrix(y_test3, y_pred_gbt3))\n",
        "\n",
        "y_pred_proba3 = clf.predict_proba(X_test3)[:,1]\n",
        "\n",
        "acc_score = accuracy_score(y_test3,y_pred_gbt3)\n",
        "auc_score = roc_auc_score(y_test3,y_pred_proba3)\n",
        "print(\"Accuracy: {}\\n AUC_ROC: {}\\n\".format(acc_score,auc_score))"
      ]
    },
    {
      "cell_type": "code",
      "execution_count": 42,
      "metadata": {
        "id": "KHmxgNDIk3xs"
      },
      "outputs": [
        {
          "data": {
            "image/png": "[encoded data removed]",
            "text/plain": [
              "<Figure size 640x480 with 1 Axes>"
            ]
          },
          "metadata": {},
          "output_type": "display_data"
        }
      ],
      "source": [
        "from sklearn.calibration import calibration_curve\n",
        "import matplotlib.pyplot as plt\n",
        "\n",
        "# reference line\n",
        "x = [0, 0.1, 0.2, 0.3, 0.4, 0.5, 0.6, 0.7, 0.8, 0.9, 1.0]\n",
        "y = [0, 0.1, 0.2, 0.3, 0.4, 0.5, 0.6, 0.7, 0.8, 0.9, 1.0]\n",
        "plt.plot(x, y, 'k', linestyle = '--', label = 'Perfectly Calibrated')\n",
        "\n",
        "#Plot all calibration curves for strategy = 'uniform' (It is uniform by default)\n",
        "x1, y1 = calibration_curve(y_test1, y_pred_proba1)\n",
        "plt.plot(y1, x1, label = 'Balanced Dataset')\n",
        "\n",
        "x2, y2 = calibration_curve(y_test2, y_pred_proba2)\n",
        "plt.plot(y2, x2, label = 'Originally Imbalanced Dataset')\n",
        "\n",
        "x3, y3 = calibration_curve(y_test3, y_pred_proba3)\n",
        "plt.plot(y3, x3, label = 'Highly Imbalanced Dataset')\n",
        "plt.legend(loc = 'best')\n",
        "plt.xlabel('Mean Predicted Probability')\n",
        "plt.ylabel('Fraction of Positives')\n",
        "plt.title('Calibration Curve using Uniform Bins')\n",
        "plt.show()\n"
      ]
    },
    {
      "cell_type": "code",
      "execution_count": 43,
      "metadata": {
        "id": "03dktaNFxCFP"
      },
      "outputs": [
        {
          "data": {
            "image/png": "[encoded data removed]",
            "text/plain": [
              "<Figure size 640x480 with 1 Axes>"
            ]
          },
          "metadata": {},
          "output_type": "display_data"
        }
      ],
      "source": [
        "# reference line\n",
        "x = [0, 0.1, 0.2, 0.3, 0.4, 0.5, 0.6, 0.7, 0.8, 0.9, 1.0]\n",
        "y = [0, 0.1, 0.2, 0.3, 0.4, 0.5, 0.6, 0.7, 0.8, 0.9, 1.0]\n",
        "plt.plot(x, y, 'k', linestyle = '--', label = 'Perfectly Calibrated')\n",
        "\n",
        "#Plot all calibration curves for strategy = 'quantile'\n",
        "x1, y1 = calibration_curve(y_test1, y_pred_proba1, strategy = 'quantile')\n",
        "plt.plot(y1, x1, label = 'Balanced Dataset')\n",
        "\n",
        "x2, y2 = calibration_curve(y_test2, y_pred_proba2, strategy = 'quantile')\n",
        "plt.plot(y2, x2, label = 'Originally Imbalanced Dataset')\n",
        "\n",
        "x3, y3 = calibration_curve(y_test3, y_pred_proba3, strategy = 'quantile')\n",
        "plt.plot(y3, x3, label = 'Highly Imbalanced Dataset')\n",
        "plt.legend(loc = 'best')\n",
        "plt.xlabel('Mean Predicted Probability')\n",
        "plt.ylabel('Fraction of Positives')\n",
        "plt.title('Calibration Curve using Quantile Bins')\n",
        "plt.show()"
      ]
    },
    {
      "cell_type": "markdown",
      "metadata": {},
      "source": [
        "In both cases, the balanced dataset was calibrated the best. In fact, the balanced datset was the only dataset that directly followed the perfect calibration line for the entirety of modeled probabilities. A balanced dataset is one where each class is roughly equally represented. Having unequal representation of classes can result in heavily skewed output since the model is not informed about all categories equally. Additionally, the quantile binning strategy seemed to perform better overall than the uniform binning strategy. We can assume that this is due to the quantile method placing the same number of observations in each bin and their dependence on the actual probability. Alternatively, uniform bins have identical widths, but may contain a different amount of observations in each bin."
      ]
    },
    {
      "cell_type": "markdown",
      "metadata": {
        "id": "ss00Jw5KkJdR"
      },
      "source": [
        "# Question 4: Deep Learning Mechanisms [5 points]\n",
        "\n",
        "Briefly explain the motivation behind the following mechanisms commonly used in deep learning: <br>\n",
        "a) **[2.5 pts]** Skip connections <br>\n",
        "b) **[2.5 pts]** Batch normalization"
      ]
    },
    {
      "cell_type": "markdown",
      "metadata": {
        "id": "BM-3J85Ew9oA"
      },
      "source": [
        "a)\n",
        "\n",
        "An issue that is commonly encountered when fitting deep learning models is decreased model performance on training data as the network increases in depth. This is known as *degradation*, which can be due to the random initialization of parameter weights around zero. This would result in subsequent layers being unable to contribute much to the final output of the model. *Skip connections* are able to skip certain layers of the network and reduce the complications of degradation by modifying the surface of the neural network. Reducing local minima/maxima leads to a faster convergence than networks built without skip connections. Common examples of skip connections are residual networks (ResNets), which utilizes matrix addition of outputs from previous layers. This results in no additional parameters since the output from the previous layer is added to the next subsequent layer. Another example of skip connections are densely connected convulational networks (DenseNets), which concatenate the outputs from previous layers rather than summing them. The main benefit of DenseNets is *feature reusability*, which refers to the idea that features learned from early layers in the network can be reused in deeper layers. DenseNets are able to learn subsequent mappings with significantly fewer parameters than a tradtional convulutional neural network since no redundant mappings are necessary.\n",
        "\n",
        "b)\n",
        "\n",
        "Another issue presented by deep neural networks is their sensitivity to randomized intitial weights. Furthermore, these weights are updated after every backpropagation of error and are unlikely to remain static, which means many epochs or passes through the data are required for network training. *Batch Normalization* is a technique for training deep networks that works by standardizing the inputs of a layer for each mini-batch, which is applied to either the activations of a prior layer or inputs directly. This normalization process accelerates training and provides regularization, which reduces generalization error and drastically reduces the number of training epochs required by deep networks.\n"
      ]
    }
  ],
  "metadata": {
    "colab": {
      "collapsed_sections": [],
      "provenance": []
    },
    "kernelspec": {
      "display_name": "Python 3.9.1 64-bit",
      "language": "python",
      "name": "python3"
    },
    "language_info": {
      "codemirror_mode": {
        "name": "ipython",
        "version": 3
      },
      "file_extension": ".py",
      "mimetype": "text/x-python",
      "name": "python",
      "nbconvert_exporter": "python",
      "pygments_lexer": "ipython3",
      "version": "3.9.1"
    },
    "vscode": {
      "interpreter": {
        "hash": "aee8b7b246df8f9039afb4144a1f6fd8d2ca17a180786b69acc140d282b71a49"
      }
    }
  },
  "nbformat": 4,
  "nbformat_minor": 0
}
