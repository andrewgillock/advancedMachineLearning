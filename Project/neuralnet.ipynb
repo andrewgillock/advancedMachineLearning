{
 "cells": [
  {
   "cell_type": "code",
   "execution_count": 51,
   "metadata": {},
   "outputs": [],
   "source": [
    "import pandas as pd\n",
    "import numpy as np"
   ]
  },
  {
   "cell_type": "code",
   "execution_count": 52,
   "metadata": {},
   "outputs": [],
   "source": [
    "train = pd.read_csv('train.csv')"
   ]
  },
  {
   "cell_type": "code",
   "execution_count": 53,
   "metadata": {},
   "outputs": [],
   "source": [
    "train_y = train['readmitted'].values\n",
    "train_x = train.drop(train.columns[-1], axis = 1)"
   ]
  },
  {
   "cell_type": "code",
   "execution_count": 54,
   "metadata": {},
   "outputs": [],
   "source": [
    "test = pd.read_csv('test.csv')"
   ]
  },
  {
   "cell_type": "code",
   "execution_count": 55,
   "metadata": {},
   "outputs": [],
   "source": [
    "test_y = test['readmitted'].values\n",
    "test_x = test.drop(test.columns[-1], axis = 1)"
   ]
  },
  {
   "cell_type": "markdown",
   "metadata": {},
   "source": [
    "### MLP no class weights"
   ]
  },
  {
   "cell_type": "code",
   "execution_count": 61,
   "metadata": {},
   "outputs": [],
   "source": [
    "from tensorflow.keras.models import Sequential\n",
    "from tensorflow.keras.layers import Dense\n",
    "from sklearn.metrics import roc_auc_score, roc_curve\n",
    "from sklearn.metrics import precision_recall_curve\n",
    "from sklearn.metrics import average_precision_score\n",
    "from sklearn.metrics import auc\n",
    "import tensorflow as tf\n",
    "import keras"
   ]
  },
  {
   "cell_type": "code",
   "execution_count": 57,
   "metadata": {},
   "outputs": [],
   "source": [
    "del(model)\n",
    "del(model2)"
   ]
  },
  {
   "cell_type": "code",
   "execution_count": 58,
   "metadata": {},
   "outputs": [],
   "source": [
    "model = keras.Sequential([\n",
    "    keras.layers.Flatten(input_shape = (51,)),\n",
    "    keras.layers.Dense(64, activation = tf.nn.relu),\n",
    "    keras.layers.Dropout(rate = 0.4),\n",
    "    keras.layers.Dense(32, activation = tf.nn.relu),\n",
    "    keras.layers.Dropout(rate = 0.3),\n",
    "    keras.layers.Dense(1, activation = tf.nn.sigmoid),\n",
    "])"
   ]
  },
  {
   "cell_type": "code",
   "execution_count": 59,
   "metadata": {},
   "outputs": [
    {
     "name": "stdout",
     "output_type": "stream",
     "text": [
      "537/537 [==============================] - 2s 3ms/step - loss: 0.5111 - accuracy: 0.7662\n"
     ]
    }
   ],
   "source": [
    "model.compile(optimizer = 'adam', loss = 'binary_crossentropy', metrics = ['accuracy'])\n",
    "\n",
    "model.fit(train_x, train_y, epochs = 200, batch_size = 64, verbose = 0)\n",
    "test_loss, test_acc = model.evaluate(test_x, test_y)"
   ]
  },
  {
   "cell_type": "code",
   "execution_count": 62,
   "metadata": {},
   "outputs": [
    {
     "name": "stdout",
     "output_type": "stream",
     "text": [
      "537/537 [==============================] - 2s 3ms/step\n"
     ]
    }
   ],
   "source": [
    "predictions = model.predict(test_x)\n",
    "roc_auc = roc_auc_score(test_y, predictions)\n",
    "precision, recall, thresholds= precision_recall_curve(test_y, predictions)\n",
    "pr_auc = auc(recall, precision)\n"
   ]
  },
  {
   "cell_type": "code",
   "execution_count": 63,
   "metadata": {},
   "outputs": [
    {
     "name": "stdout",
     "output_type": "stream",
     "text": [
      "Test accuracy:  0.7662314772605896\n",
      "ROC-AUC Score:  0.7586608552085063\n",
      "PR-AUC:  0.6115982501113126\n"
     ]
    }
   ],
   "source": [
    "print('Test accuracy: ', test_acc)\n",
    "print('ROC-AUC Score: ', roc_auc)\n",
    "print('PR-AUC: ', pr_auc)"
   ]
  },
  {
   "cell_type": "code",
   "execution_count": 66,
   "metadata": {},
   "outputs": [
    {
     "name": "stdout",
     "output_type": "stream",
     "text": [
      "Model: \"sequential_18\"\n",
      "_________________________________________________________________\n",
      " Layer (type)                Output Shape              Param #   \n",
      "=================================================================\n",
      " flatten_2 (Flatten)         (None, 51)                0         \n",
      "                                                                 \n",
      " dense_30 (Dense)            (None, 64)                3328      \n",
      "                                                                 \n",
      " dropout_7 (Dropout)         (None, 64)                0         \n",
      "                                                                 \n",
      " dense_31 (Dense)            (None, 32)                2080      \n",
      "                                                                 \n",
      " dropout_8 (Dropout)         (None, 32)                0         \n",
      "                                                                 \n",
      " dense_32 (Dense)            (None, 1)                 33        \n",
      "                                                                 \n",
      "=================================================================\n",
      "Total params: 5,441\n",
      "Trainable params: 5,441\n",
      "Non-trainable params: 0\n",
      "_________________________________________________________________\n"
     ]
    }
   ],
   "source": [
    "model.summary()"
   ]
  },
  {
   "cell_type": "code",
   "execution_count": 41,
   "metadata": {},
   "outputs": [
    {
     "data": {
      "image/png": "[encoded data removed]",
      "text/plain": [
       "<PIL.Image.Image image mode=RGBA size=247x99>"
      ]
     },
     "execution_count": 41,
     "metadata": {},
     "output_type": "execute_result"
    }
   ],
   "source": [
    "import visualkeras\n",
    "visualkeras.layered_view(model, legend=True, draw_volume=True,spacing=20)"
   ]
  },
  {
   "cell_type": "markdown",
   "metadata": {},
   "source": [
    "### MLP including class weights"
   ]
  },
  {
   "cell_type": "code",
   "execution_count": 67,
   "metadata": {},
   "outputs": [
    {
     "data": {
      "text/plain": [
       "<keras.callbacks.History at 0x7fdcdfb45160>"
      ]
     },
     "execution_count": 67,
     "metadata": {},
     "output_type": "execute_result"
    }
   ],
   "source": [
    "class_weight = {0:1., 1:2.}\n",
    "\n",
    "model2 = keras.Sequential([\n",
    "    keras.layers.Flatten(input_shape = (51,)),\n",
    "    keras.layers.Dense(64, activation = tf.nn.relu),\n",
    "    keras.layers.Dropout(rate = 0.4),\n",
    "    keras.layers.Dense(32, activation = tf.nn.relu),\n",
    "    keras.layers.Dropout(rate = 0.3),\n",
    "    keras.layers.Dense(1, activation = tf.nn.sigmoid),\n",
    "])\n",
    "\n",
    "model2.compile(optimizer = 'adam', loss = 'binary_crossentropy', metrics = ['accuracy'])\n",
    "\n",
    "model2.fit(train_x, train_y, epochs = 200, batch_size = 64, class_weight = class_weight, verbose = 0) # include class weights"
   ]
  },
  {
   "cell_type": "code",
   "execution_count": 68,
   "metadata": {},
   "outputs": [
    {
     "name": "stdout",
     "output_type": "stream",
     "text": [
      "537/537 [==============================] - 2s 2ms/step - loss: 0.5569 - accuracy: 0.7439\n",
      "537/537 [==============================] - 1s 2ms/step\n"
     ]
    }
   ],
   "source": [
    "test_loss2, test_acc2 = model2.evaluate(test_x, test_y)\n",
    "predictions2 = model2.predict(test_x)\n",
    "roc_auc2 = roc_auc_score(test_y, predictions2)\n",
    "precision2, recall2, thresholds2= precision_recall_curve(test_y, predictions2)\n",
    "pr_auc2 = auc(recall2, precision2)"
   ]
  },
  {
   "cell_type": "code",
   "execution_count": 69,
   "metadata": {},
   "outputs": [
    {
     "name": "stdout",
     "output_type": "stream",
     "text": [
      "Test accuracy:  0.7438512444496155\n",
      "ROC-AUC Score:  0.7559397682079665\n",
      "PR-AUC:  0.6088699847321379\n"
     ]
    }
   ],
   "source": [
    "print('Test accuracy: ', test_acc2)\n",
    "print('ROC-AUC Score: ', roc_auc2)\n",
    "print('PR-AUC: ', pr_auc2)"
   ]
  },
  {
   "cell_type": "code",
   "execution_count": 18,
   "metadata": {},
   "outputs": [
    {
     "name": "stdout",
     "output_type": "stream",
     "text": [
      "Model: \"sequential_1\"\n",
      "_________________________________________________________________\n",
      " Layer (type)                Output Shape              Param #   \n",
      "=================================================================\n",
      " flatten_1 (Flatten)         (None, 51)                0         \n",
      "                                                                 \n",
      " dense_3 (Dense)             (None, 64)                3328      \n",
      "                                                                 \n",
      " dropout_2 (Dropout)         (None, 64)                0         \n",
      "                                                                 \n",
      " dense_4 (Dense)             (None, 32)                2080      \n",
      "                                                                 \n",
      " dropout_3 (Dropout)         (None, 32)                0         \n",
      "                                                                 \n",
      " dense_5 (Dense)             (None, 1)                 33        \n",
      "                                                                 \n",
      "=================================================================\n",
      "Total params: 5,441\n",
      "Trainable params: 5,441\n",
      "Non-trainable params: 0\n",
      "_________________________________________________________________\n"
     ]
    }
   ],
   "source": [
    "model2.summary()"
   ]
  },
  {
   "cell_type": "code",
   "execution_count": 40,
   "metadata": {},
   "outputs": [
    {
     "name": "stdout",
     "output_type": "stream",
     "text": [
      "{'name': 'activation_21', 'trainable': True, 'dtype': 'float32', 'activation': 'relu'}\n"
     ]
    }
   ],
   "source": [
    "# import keras;\n",
    "# from keras.models import Sequential;\n",
    "# from keras.layers import Dense, Conv2D, MaxPooling2D, Flatten, Dropout, Activation;\n",
    "# import json;\n",
    "\n",
    "# network = Sequential();\n",
    "\n",
    "\n",
    "# def build_cnn_model():\n",
    "#   model = keras.models.Sequential()\n",
    "\n",
    "#   model.add(Dense(64, input_shape=(51,)));\n",
    "#   model.add(Activation('relu'));\n",
    "#   model.add(Dense(32));\n",
    "#   model.add(Activation('relu'));\n",
    "#   model.add(Dense(1));\n",
    "#   model.add(Activation('sigmoid'));\n",
    "\n",
    "#   return model\n",
    "\n",
    "# network = build_cnn_model();\n",
    "\n",
    "# from ann_visualizer.visualize import ann_viz;\n",
    "\n",
    "# ann_viz(network, title=\"\", view=True);\n",
    "\n",
    "# print(network.layers[1].get_config());"
   ]
  }
 ],
 "metadata": {
  "kernelspec": {
   "display_name": "Python 3.9.1 64-bit",
   "language": "python",
   "name": "python3"
  },
  "language_info": {
   "codemirror_mode": {
    "name": "ipython",
    "version": 3
   },
   "file_extension": ".py",
   "mimetype": "text/x-python",
   "name": "python",
   "nbconvert_exporter": "python",
   "pygments_lexer": "ipython3",
   "version": "3.9.1"
  },
  "orig_nbformat": 4,
  "vscode": {
   "interpreter": {
    "hash": "aee8b7b246df8f9039afb4144a1f6fd8d2ca17a180786b69acc140d282b71a49"
   }
  }
 },
 "nbformat": 4,
 "nbformat_minor": 2
}
