{
 "cells": [
  {
   "cell_type": "markdown",
   "metadata": {
    "id": "voAS4e-XbWaH"
   },
   "source": [
    "# Assignment - 1 (65 pts)\n",
    "\n",
    "### Due: 11:59 PM CT, September 7 \n",
    "\n",
    "---\n",
    "\n",
    "Andrew Gillock apg2255\n",
    "\n",
    "Benjamin Kanarick bjk2437"
   ]
  },
  {
   "cell_type": "markdown",
   "metadata": {
    "id": "Rh_WVVdznfMN"
   },
   "source": [
    "# Question 1: Adoption of AI/ML (5 pts)\n",
    "\n",
    "Read the HBR article on barriers to adoption of AI/ML based solutions in the healthcare industry, which is posted as the first document in Canvas under Modules --> Resources.\n",
    "\n",
    "Write a paragraph in your own words summarizing what you feel were the key factors that contributed to the lack of trust (and hence adoption) of the AI/ML solutions discussed. \n",
    "\n",
    "The main doubts from patients with regards to AI/ML are that their health problems are too unique to get a recommendation from an artificial intelligence machine. These patients were more likely to choose a human doctor even if AI had better accuracy, which suggests that consumers believe these machines are 'inflexible and standardized' to make generalized decisions. I find this to be very interesting considering many of the AI machines are capable of performing equivalent or better services than human doctors for less money. Not to mention, the AI is able to use data from millions of past records to make its decision. The article states that patients are more receptive of the AI/ML if a human doctor has the ultimate say in the diagnosis/procedure, which I believe will become a common trend as these technologies become more readily available."
   ]
  },
  {
   "cell_type": "markdown",
   "metadata": {
    "id": "IkVxrWs0o0tn"
   },
   "source": [
    "\n",
    "# Question 2: Google Flu Trends (8 pts)\n",
    "\n",
    "The second article posted  in Canvas under Modules --> Resources, (google flu) describes a high-profile (and embarrassingly  failed)  project done by google, highlighting the phenomena of data drift and the importance of continually monitoring/updating models post deployment.\n",
    "\n",
    "Read this article and then briefly describe \n",
    "\n",
    "(i) three important causes of \"data drift\" in the flu prediction problem that are mentioned in the article, and\n",
    "\n",
    "There were a couple factors that were influential in the 'data drift' that occurred in Google Flu Trends (GFT). Firstly, GFT relied primarily on big data, which meant that traditional data collection and analyses were not considered. Additionally, the presence of dynamic algorithms meant that GFT was tailored towards dated builds of the search engine, an example of 'blue team' dynamics. Finally, GFT utilized geographic regions to determine the correlation between certain terms and doctor visits, while their similar program Google Correlate calculated these correlations based on the national level. These 3 qualities of Google Flu Trends resulted in unreplicable and unreliable data. "
   ]
  },
  {
   "cell_type": "markdown",
   "metadata": {},
   "source": [
    "(ii) one important aspect of the original google model design that made it very prone to overfitting (and hence poor generalization on future data).\n",
    "\n",
    "An important feature of GFT that made it prone to overfitting was its assumption that relative search volume is directly related to real global events, but this is not always the case. This was a potential source of search terms strongly related to CDC data but seemingly unrelated to the flu (ie high school basketball). As the paper states, this should have been a clear indication of overfitting since the model was attempting to explain flu trends using data that does not actually contribute to doctor visits. Additionally, 'blue team' dynamics that changed the functionality and specificity of GFT over time likely resulted in poor generalization of future data. "
   ]
  },
  {
   "cell_type": "markdown",
   "metadata": {
    "id": "hpTvwLiHVmfo"
   },
   "source": [
    "# Question 3: Maximum Likelihood Estimate (12 pts)\n",
    "\n",
    "100 students in the MSBA Program were asked if they wanted to buy the Big Ticket for the season. They reported their preferences by entering No or Yes in the survey. We use 0 to represent their disinterest in buying the Big Ticket and 1 to represent their interest. A random sample of 30 students yielded the following preferences:\n",
    "\n",
    "$$0 0 1 1 0 1 0 1 1 1 0 1 1 0 1 0 0 1 1 1 0 0 1 1 0 1 1 0 0 1$$\n",
    "\n",
    "These choices are assumed to arise by independent and identically distributed (i.i.d.) sampling from the following distribution and if the unknown parameter $q$ can be estimated, then we can provide more insights about the students' preference.\n",
    "\n",
    "$$\n",
    "\\begin{equation}\n",
    "\\nonumber P(x) = \\left\\{\n",
    "\\begin{array}{l l}\n",
    "    q& \\quad \\text{for  } x=0\\\\\n",
    "1-q & \\quad \\text{for } x=1\n",
    "\\end{array} \\right.\n",
    "\\end{equation}\n",
    "$$\n",
    "\n",
    "\n",
    "1. Based on the definitions given above, write down the likelihood function (3 pts)\n",
    "\n",
    "The likelihood function of this Bernoulli distribution is given by:\n",
    "\n",
    "$$\n",
    "L(\\theta) = \\prod_{i = 1}^n \\ q^{1 - x_i} \\ (1-q)^{x_i}\n",
    "$$\n",
    "    \n",
    "2. Derive the **maximum likelihood estimator** of $q$ (Algenric expression in terms of variables) (3 pts)\n",
    "\n",
    "The maximum likelihood estimate (MLE) can be defined by taking the derivative of the log likelihood equation and setting it equal to zero. This derivation can be seen below:\n",
    "\n",
    "$$\n",
    "LL(\\theta) = \\sum^n_{i = 1} (1 - x_i) \\ log(q) + (x_i) \\ log(1 - q)\n",
    "$$\n",
    "$$\n",
    "= (n - y) \\ log(q) + (y) \\ log(1 - q), \\ where \\ y = \\sum^n_{i = 1} x_i\n",
    "$$\n",
    "---\n",
    "$$\n",
    "\\frac{\\delta LL(q)}{\\delta q} = (n - y)\\frac{1}{q} + y \\frac{-1}{1 - q}\n",
    "$$\n",
    "\n",
    "$$\n",
    "\\frac{\\delta LL(q)}{\\delta q} = \\frac{y}{n} = \\frac{\\sum^n_{i = 1} x_i}{n} = E[x] = \\mu = q\n",
    "$$\n",
    "\n",
    "3. Using the given sample, find a maximum likelihood estimate of $q$ as well (numerical value) (3 pts)\n",
    "\n",
    "Since MLE is just equal to the expected value for Bernoulli distributions, we would estimate the MLE of q to be 13/30. \n",
    "\n",
    "$$\n",
    "E[x] = q \\\\ = \\frac{13}{30}\n",
    "$$\n",
    "\n",
    "4. Show that the maximum likelihood estimate is unbiased (3 pts)\n",
    "\n",
    "$$\n",
    "E[x] = \\frac{1}{n}E\\sum^{n}_{i = 1}(1-x_i) \\\\\n",
    "E[x] = \\frac{1}{n}\\sum^{n}_{i = 1}E(1-x_i) \\\\\n",
    "E[x] = \\frac{1}{n}\\sum^{n}_{1-x_i}q \\\\\n",
    "E[x] = \\frac{1}{n}(nq) \\\\\n",
    "E[x] = q\n",
    "$$"
   ]
  },
  {
   "cell_type": "markdown",
   "metadata": {
    "id": "nTWFVcvwXP4w"
   },
   "source": [
    "# Question 4: Linear Regression (10 pts)\n",
    "\n",
    "1. What is the difference between R-square and adjusted R square and why is it desirable to use the adjusted value? (4 pts)\n",
    "\n",
    "R-square takes the form of a proportion, with values between 0 and 1, inclusive. It is calculated by dividing the residual sum of squares (RSS) and dividing it by the total unexplained variation (TSS), then subtracting this value from 1. The more predictors that are included in the model, the higher this value will become. Alternatively, the adjusted r-square is calculated the same way as r-square, but the RSS is divided by (n-p-1) and TSS is divided by (n-1). This measure of fit penalizes variables that do not help to explain variation in the model. Using the adjusted r-square means that you can build a model using multiple predictors that significantly affect the outcome variable without inflating the r-square value. \n",
    "\n",
    "2. Overfitting usually happens in complex models. Linear Regression is a fairly simple model. Could overfitting happen in Linear Regression? If so, please explain the scenario in which it could happen and how we can tackle it. (6 pts)\n",
    "\n",
    "Although Linear Regression is a fairly simple model, overfitting is likely as you increase the number of parameter estimates that don't explain variation in the outcome variable. Furthermore, overfitting can occur when models try to capture the exact distribution of testing data. The most common way to solve this problem would be to create a train/test data to assess the fit. Another way that can be more accurate than train/test splits is k-fold cross-validation, where the data is split into k groups, and 1 group is chosen as testing data. You could also try subset selection to get the most important predictors in the model. Alternatively, you can use shrinkage methods such as ridge regression or LASSO, which add a penalty lambda to increase bias while decreasing flexibility and variance.\n"
   ]
  },
  {
   "cell_type": "markdown",
   "metadata": {
    "id": "rTCBgfLxeIi5"
   },
   "source": [
    "# Question 5: Ridge/ Lasso Regression (30 pts)\n",
    "\n",
    "Use the following code to import the California housing prices dataset and linear models in python. The dataset is taken from https://www.kaggle.com/camnugent/california-housing-prices/version/1. We have removed the categorical variables and rows with missing variables to make it easier to run the models."
   ]
  },
  {
   "cell_type": "markdown",
   "metadata": {
    "id": "naMH3EMCm1cA"
   },
   "source": [
    "The data pertains to the houses found in a given California district and some summary stats about them based on the 1990 census data. The columns are as follows:\n",
    "\n",
    "longitude\n",
    "\n",
    "latitude\n",
    "\n",
    "housingmedianage\n",
    "\n",
    "total_rooms\n",
    "\n",
    "total_bedrooms\n",
    "\n",
    "population\n",
    "\n",
    "households\n",
    "\n",
    "median_income\n",
    "\n",
    "medianhousevalue\n",
    "\n",
    "ocean_proximity (this feature has been removed from the csv file since it is an ordinal variable)"
   ]
  },
  {
   "cell_type": "code",
   "execution_count": 3,
   "metadata": {
    "id": "Qhv7UoyilbDV"
   },
   "outputs": [],
   "source": [
    "import pandas as pd\n",
    "from pandas import Series, DataFrame\n",
    "import random\n",
    "import numpy as np\n",
    "from sklearn.metrics import mean_absolute_error, mean_squared_error\n",
    "from sklearn import linear_model\n",
    "pd.options.mode.chained_assignment = None\n",
    "\n",
    "df = pd.read_csv(\"housing_data.csv\")\n",
    "X = df.drop(['median_house_value'],axis=1)\n",
    "Y = df['median_house_value']"
   ]
  },
  {
   "cell_type": "code",
   "execution_count": 4,
   "metadata": {
    "colab": {
     "base_uri": "https://localhost:8080/"
    },
    "id": "CTiUIITYezts",
    "outputId": "82a0383b-f064-44f1-9ab8-ed196cf9d44f"
   },
   "outputs": [
    {
     "data": {
      "text/plain": [
       "Index(['longitude', 'latitude', 'housing_median_age', 'total_rooms',\n",
       "       'total_bedrooms', 'population', 'households', 'median_income',\n",
       "       'median_house_value'],\n",
       "      dtype='object')"
      ]
     },
     "execution_count": 4,
     "metadata": {},
     "output_type": "execute_result"
    }
   ],
   "source": [
    "df.columns # Show you all the columns in this file"
   ]
  },
  {
   "cell_type": "code",
   "execution_count": 5,
   "metadata": {
    "colab": {
     "base_uri": "https://localhost:8080/",
     "height": 206
    },
    "id": "li4lFm55fEPg",
    "outputId": "7e8cdc45-720f-4a6f-84af-2992d62fe744"
   },
   "outputs": [
    {
     "data": {
      "text/html": [
       "<div>\n",
       "<style scoped>\n",
       "    .dataframe tbody tr th:only-of-type {\n",
       "        vertical-align: middle;\n",
       "    }\n",
       "\n",
       "    .dataframe tbody tr th {\n",
       "        vertical-align: top;\n",
       "    }\n",
       "\n",
       "    .dataframe thead th {\n",
       "        text-align: right;\n",
       "    }\n",
       "</style>\n",
       "<table border=\"1\" class=\"dataframe\">\n",
       "  <thead>\n",
       "    <tr style=\"text-align: right;\">\n",
       "      <th></th>\n",
       "      <th>longitude</th>\n",
       "      <th>latitude</th>\n",
       "      <th>housing_median_age</th>\n",
       "      <th>total_rooms</th>\n",
       "      <th>total_bedrooms</th>\n",
       "      <th>population</th>\n",
       "      <th>households</th>\n",
       "      <th>median_income</th>\n",
       "      <th>median_house_value</th>\n",
       "    </tr>\n",
       "  </thead>\n",
       "  <tbody>\n",
       "    <tr>\n",
       "      <th>0</th>\n",
       "      <td>-122.23</td>\n",
       "      <td>37.88</td>\n",
       "      <td>41.0</td>\n",
       "      <td>880.0</td>\n",
       "      <td>129.0</td>\n",
       "      <td>322.0</td>\n",
       "      <td>126.0</td>\n",
       "      <td>8.3252</td>\n",
       "      <td>452600.0</td>\n",
       "    </tr>\n",
       "    <tr>\n",
       "      <th>1</th>\n",
       "      <td>-122.22</td>\n",
       "      <td>37.86</td>\n",
       "      <td>21.0</td>\n",
       "      <td>7099.0</td>\n",
       "      <td>1106.0</td>\n",
       "      <td>2401.0</td>\n",
       "      <td>1138.0</td>\n",
       "      <td>8.3014</td>\n",
       "      <td>358500.0</td>\n",
       "    </tr>\n",
       "    <tr>\n",
       "      <th>2</th>\n",
       "      <td>-122.24</td>\n",
       "      <td>37.85</td>\n",
       "      <td>52.0</td>\n",
       "      <td>1467.0</td>\n",
       "      <td>190.0</td>\n",
       "      <td>496.0</td>\n",
       "      <td>177.0</td>\n",
       "      <td>7.2574</td>\n",
       "      <td>352100.0</td>\n",
       "    </tr>\n",
       "    <tr>\n",
       "      <th>3</th>\n",
       "      <td>-122.25</td>\n",
       "      <td>37.85</td>\n",
       "      <td>52.0</td>\n",
       "      <td>1274.0</td>\n",
       "      <td>235.0</td>\n",
       "      <td>558.0</td>\n",
       "      <td>219.0</td>\n",
       "      <td>5.6431</td>\n",
       "      <td>341300.0</td>\n",
       "    </tr>\n",
       "    <tr>\n",
       "      <th>4</th>\n",
       "      <td>-122.25</td>\n",
       "      <td>37.85</td>\n",
       "      <td>52.0</td>\n",
       "      <td>1627.0</td>\n",
       "      <td>280.0</td>\n",
       "      <td>565.0</td>\n",
       "      <td>259.0</td>\n",
       "      <td>3.8462</td>\n",
       "      <td>342200.0</td>\n",
       "    </tr>\n",
       "  </tbody>\n",
       "</table>\n",
       "</div>"
      ],
      "text/plain": [
       "   longitude  latitude  housing_median_age  total_rooms  total_bedrooms  \\\n",
       "0    -122.23     37.88                41.0        880.0           129.0   \n",
       "1    -122.22     37.86                21.0       7099.0          1106.0   \n",
       "2    -122.24     37.85                52.0       1467.0           190.0   \n",
       "3    -122.25     37.85                52.0       1274.0           235.0   \n",
       "4    -122.25     37.85                52.0       1627.0           280.0   \n",
       "\n",
       "   population  households  median_income  median_house_value  \n",
       "0       322.0       126.0         8.3252            452600.0  \n",
       "1      2401.0      1138.0         8.3014            358500.0  \n",
       "2       496.0       177.0         7.2574            352100.0  \n",
       "3       558.0       219.0         5.6431            341300.0  \n",
       "4       565.0       259.0         3.8462            342200.0  "
      ]
     },
     "execution_count": 5,
     "metadata": {},
     "output_type": "execute_result"
    }
   ],
   "source": [
    "df.head() # Show you the first 5 rows in this file"
   ]
  },
  {
   "cell_type": "markdown",
   "metadata": {},
   "source": [
    "1) Split the data into a training set (75% of data) and a test set (25% of data), using the train_test_split function with random_state = 50. Then scale the data (not including target) so that each of the independent variables would have zero mean and unit variance. You can use the sklearn.preprocessing.scale function for this. Print the first 5 rows of the training set after scaling. (2 pts) "
   ]
  },
  {
   "cell_type": "code",
   "execution_count": 6,
   "metadata": {},
   "outputs": [
    {
     "data": {
      "text/plain": [
       "array([[-1.13113681,  1.91091856,  1.85290292, -0.97858972, -1.04294314,\n",
       "        -0.99407214, -1.05120862, -1.2222887 ],\n",
       "       [-1.12615029,  0.76639279, -0.92620274,  0.19946448,  0.16877038,\n",
       "         0.54845443,  0.27854331,  0.71761009],\n",
       "       [ 0.70888992, -0.7004688 ,  1.85290292, -1.02423644, -1.0022334 ,\n",
       "        -0.94920516, -1.03796408, -1.18162406],\n",
       "       [-1.21590769,  0.62157525,  1.13827575, -0.2132003 , -0.06351462,\n",
       "        -0.18915862, -0.08700602, -0.69687411],\n",
       "       [ 0.86347211, -0.70981187, -0.29097859,  0.38758429,  0.07298275,\n",
       "         0.27207387,  0.10371537,  0.51338795]])"
      ]
     },
     "execution_count": 6,
     "metadata": {},
     "output_type": "execute_result"
    }
   ],
   "source": [
    "# perform split\n",
    "from sklearn.model_selection import train_test_split\n",
    "X_train, X_test, y_train, y_test = train_test_split(X, Y, test_size = 0.25, random_state = 50)\n",
    "\n",
    "# perform standarization\n",
    "from sklearn import preprocessing\n",
    "from sklearn.preprocessing import StandardScaler\n",
    "scaler = StandardScaler()\n",
    "\n",
    "# transform\n",
    "\n",
    "X_train_scaled = scaler.fit_transform(X_train)\n",
    "X_test_scaled = scaler.transform(X_test)\n",
    "y_train = np.array(y_train)\n",
    "\n",
    "X_train_scaled[:5]"
   ]
  },
  {
   "cell_type": "markdown",
   "metadata": {},
   "source": [
    "2) Use sklearn.linear_model.Lasso and sklearn.linear_model.Ridge classes to do a 5-fold cross validation using sklearn's KFold. For the sweep of the regularization parameter, we will look at a grid of values ranging from $α = 10^{10}$ to $α = 10^{−6}$.\n",
    "\n",
    "In Python, you can consider this range of values as follows: alpha = 10**numpy.linspace(6,-6,100) so that you can generate 100 uniform values between -6 to 6 as power series.\n",
    "\n",
    "Fit the 2 regression models with scaled data and report the best chosen α based on cross validation as well as the corresponding scoring metric. The cross validation should happen on your training data using MSE as the scoring metric. (5 pts) "
   ]
  },
  {
   "cell_type": "code",
   "execution_count": 7,
   "metadata": {},
   "outputs": [
    {
     "name": "stdout",
     "output_type": "stream",
     "text": [
      "MSE_ridge    4.790517e+09\n",
      "Alpha        2.477076e+01\n",
      "Name: 38, dtype: float64\n",
      "\n",
      "MSE_lasso    4.790245e+09\n",
      "Alpha        7.564633e+01\n",
      "Name: 34, dtype: float64\n"
     ]
    }
   ],
   "source": [
    "from sklearn.linear_model import Ridge, Lasso\n",
    "from sklearn.model_selection import KFold, cross_val_score \n",
    "\n",
    "alphas = 10**np.linspace(6,-6,100)\n",
    "\n",
    "# 5-fold KFold\n",
    "cv = KFold(n_splits = 5, shuffle = True, random_state = 1)\n",
    "\n",
    "# create empty lists\n",
    "MSE_ridge = []\n",
    "MSE_lasso = []\n",
    "\n",
    "a_ridge = []\n",
    "\n",
    "# loop through alphas\n",
    "for a in alphas:\n",
    "    \n",
    "    # create ridge and lasso model\n",
    "    model_ridge = Ridge(alpha = a)\n",
    "    model_lasso = Lasso(alpha = a)\n",
    "    \n",
    "\n",
    "    for train, test in cv.split(X_train_scaled):\n",
    "        \n",
    "        # create empty lists to store cv values\n",
    "        tempMSE_ridge = []\n",
    "        tempMSE_lasso = []\n",
    "        \n",
    "        X_train_cv = X_train_scaled[train]\n",
    "        X_test_cv = X_train_scaled[test]\n",
    "        y_train_cv = y_train[train]\n",
    "        y_test_cv = y_train[test]\n",
    "        \n",
    "        # fit ridge models, add MSE\n",
    "        model_ridge.fit(X_train_cv, y_train_cv)\n",
    "        model_ridge_pred = model_ridge.predict(X_test_cv)\n",
    "        tempMSE_ridge.append(mean_squared_error(y_test_cv, model_ridge_pred))\n",
    "        \n",
    "        # fit lasso models, add MSE\n",
    "        model_lasso.fit(X_train_cv, y_train_cv)\n",
    "        model_lasso_pred = model_lasso.predict(X_test_cv)\n",
    "        tempMSE_lasso.append(mean_squared_error(y_test_cv, model_lasso_pred))\n",
    "    \n",
    "    # add mean MSE of each cross-validation\n",
    "    MSE_ridge.append(np.mean(tempMSE_ridge))\n",
    "    MSE_lasso.append(np.mean(tempMSE_lasso))\n",
    "    \n",
    "    a_ridge.append(a)\n",
    "\n",
    "    \n",
    "ridges = pd.DataFrame(np.array([MSE_ridge, a_ridge])).T.rename(columns = {0: 'MSE_ridge', 1: 'Alpha'})\n",
    "ridges['MSE_ridge'].idxmin()\n",
    "print(ridges.iloc[38])\n",
    "print()\n",
    "lassos = pd.DataFrame(np.array([MSE_lasso, a_ridge])).T.rename(columns = {0: 'MSE_lasso', 1: 'Alpha'})\n",
    "lassos['MSE_lasso'].idxmin()\n",
    "print(lassos.iloc[34])"
   ]
  },
  {
   "cell_type": "markdown",
   "metadata": {},
   "source": [
    "3) a) Run ridge and lasso regression for all of the α specified above (on training data), and plot the coefficients learned for each of them - there should be one plot each for lasso and ridge, so a total of two plots; different features' weights of each model should be on the same plot with different colors (5 pts).\n",
    "\n",
    "  b) What do you qualitatively observe when the value of the regularization parameter changes? (2pts)\n"
   ]
  },
  {
   "cell_type": "code",
   "execution_count": 8,
   "metadata": {},
   "outputs": [
    {
     "data": {
      "text/plain": [
       "<AxesSubplot:title={'center':'Lasso Coefficients'}, xlabel='Log10(alpha)'>"
      ]
     },
     "execution_count": 8,
     "metadata": {},
     "output_type": "execute_result"
    },
    {
     "data": {
      "image/png": "[encoded data removed]",
      "text/plain": [
       "<Figure size 432x288 with 1 Axes>"
      ]
     },
     "metadata": {
      "needs_background": "light"
     },
     "output_type": "display_data"
    },
    {
     "data": {
      "image/png": "[encoded data removed]",
      "text/plain": [
       "<Figure size 432x288 with 1 Axes>"
      ]
     },
     "metadata": {
      "needs_background": "light"
     },
     "output_type": "display_data"
    }
   ],
   "source": [
    "# create empty dfs\n",
    "ridge_coefs = pd.DataFrame(columns = X.columns)\n",
    "lasso_coefs = pd.DataFrame(columns = X.columns)\n",
    "\n",
    "# loop through alphas\n",
    "for a in alphas:\n",
    "    lasso = Lasso(a).fit(X_train_scaled, y_train)\n",
    "    ridge = Ridge(a).fit(X_train_scaled, y_train) \n",
    "    \n",
    "    ridge_coefs.loc[a] = ridge.coef_\n",
    "    lasso_coefs.loc[a] = lasso.coef_\n",
    "\n",
    "# log-transform\n",
    "ridge_coefs['Log10(alpha)'] = np.log10(ridge_coefs.index)\n",
    "lasso_coefs['Log10(alpha)'] = np.log10(lasso_coefs.index)\n",
    "\n",
    "import matplotlib.pyplot as plt\n",
    "\n",
    "ridge_coefs.plot(x = 'Log10(alpha)', y = X.columns, kind = 'line', title = 'Ridge Coefficients')\n",
    "\n",
    "ridge_coefs.plot(x = 'Log10(alpha)', y = X.columns, kind = 'line', title = 'Lasso Coefficients')"
   ]
  },
  {
   "cell_type": "markdown",
   "metadata": {},
   "source": [
    "We can observe that as the log-transformed regularization parameter increases, the coefficients for ridge regression and lasso models approach zero."
   ]
  },
  {
   "cell_type": "markdown",
   "metadata": {},
   "source": [
    "4) a) Similarly, use sklearn.linear_model.ElasticNet to do linear regression with different α values, and plot the coefficients learned for each of them (2 pts).\n",
    "\n",
    "  b) Observe the plot, then explain the pros and cons of ridge, lasso and Elastic Net models. (3pts)"
   ]
  },
  {
   "cell_type": "code",
   "execution_count": 9,
   "metadata": {},
   "outputs": [
    {
     "data": {
      "text/plain": [
       "<AxesSubplot:title={'center':'Elastic Net Coefficients'}, xlabel='Log10(alpha)'>"
      ]
     },
     "execution_count": 9,
     "metadata": {},
     "output_type": "execute_result"
    },
    {
     "data": {
      "image/png": "[encoded data removed]",
      "text/plain": [
       "<Figure size 432x288 with 1 Axes>"
      ]
     },
     "metadata": {
      "needs_background": "light"
     },
     "output_type": "display_data"
    }
   ],
   "source": [
    "from sklearn.linear_model import ElasticNet\n",
    "\n",
    "# create empty df\n",
    "elastic_coefs = pd.DataFrame(columns = X.columns)\n",
    "\n",
    "# loop through alphas\n",
    "for a in alphas:\n",
    "    \n",
    "    elastic = ElasticNet(a).fit(X_train_scaled, y_train)\n",
    "    \n",
    "    elastic_coefs.loc[a] = elastic.coef_\n",
    "\n",
    "elastic_coefs['Log10(alpha)'] = np.log(elastic_coefs.index)\n",
    "\n",
    "elastic_coefs.plot(x = 'Log10(alpha)', y = X.columns, kind = 'line', title = 'Elastic Net Coefficients')"
   ]
  },
  {
   "cell_type": "markdown",
   "metadata": {},
   "source": [
    "Looking at the plot, it appears that as the log-transformed alpha value increases, the elastic net coefficients approach zero as well, but faster than both ridge and lasso models. The benefits of ridge and lasso models are that they are some of the simplest regularization techniques. Elastic nets are computationally expensive, but offer solutions to the shortcomings of ridge and lasso without increasing significantly increasing bias."
   ]
  },
  {
   "cell_type": "markdown",
   "metadata": {
    "id": "V39QgNuEfR6q"
   },
   "source": [
    "5) Run the following three regression models with MSE loss on the training data (5 pts): \n",
    "\n",
    "a) linear regression without regularization (1pts)\n",
    "\n",
    "b) linear regression with ridge regularization (2pts)\n",
    "\n",
    "c) linear regression with lasso regularization (2pts)\n",
    "\n",
    "For part (b) and (c), use only the best regularization parameters. Report the MSE and R2 on the test data for each of the models.\n",
    "\n",
    "6) Train the 3 models and report metrics with the original data without scaling (3pts)\n",
    "\n",
    "7) Why did we have to scale the data in ridge and lasso regression? (3 pts)\n",
    "\n"
   ]
  },
  {
   "cell_type": "code",
   "execution_count": 10,
   "metadata": {},
   "outputs": [
    {
     "name": "stdout",
     "output_type": "stream",
     "text": [
      "Linear Model: \n",
      "MSE:  4861014374.694\n",
      "r2:  0.63623\n"
     ]
    }
   ],
   "source": [
    "# part a\n",
    "from sklearn.linear_model import LinearRegression\n",
    "from sklearn import metrics\n",
    "\n",
    "model_linear = LinearRegression().fit(X_train_scaled, y_train)\n",
    "linear_pred = model_linear.predict(X_test_scaled)\n",
    "linear_pred\n",
    "\n",
    "# y_test, linear_pred\n",
    "MSE_linear = metrics.mean_squared_error(y_test, linear_pred)\n",
    "r2_linear = model_linear.score(X_train_scaled, y_train)\n",
    "\n",
    "print('Linear Model: ')\n",
    "print('MSE: ', round(MSE_linear, 3))\n",
    "print('r2: ', round(r2_linear, 5))"
   ]
  },
  {
   "cell_type": "code",
   "execution_count": 11,
   "metadata": {},
   "outputs": [
    {
     "name": "stdout",
     "output_type": "stream",
     "text": [
      "Ridge Model: \n",
      "MSE:  4861378294.324\n",
      "r2:  0.63622\n"
     ]
    }
   ],
   "source": [
    "# part b\n",
    "model_ridge2 = Ridge(alpha = ridges['Alpha'].iloc[38])\n",
    "model_ridge2.fit(X_train, y_train)\n",
    "model_ridge_pred2 = model_ridge2.predict(X_test)\n",
    "\n",
    "MSE_ridge2 = mean_squared_error(y_test, model_ridge_pred2)\n",
    "r2_ridge = model_ridge2.score(X_train, y_train)\n",
    "\n",
    "print('Ridge Model: ')\n",
    "print('MSE: ', round(MSE_ridge2, 3))\n",
    "print('r2: ', round(r2_ridge, 5))"
   ]
  },
  {
   "cell_type": "code",
   "execution_count": 12,
   "metadata": {},
   "outputs": [
    {
     "name": "stdout",
     "output_type": "stream",
     "text": [
      "Lasso Model: \n",
      "MSE:  4861396623.291\n",
      "r2:  0.63622\n"
     ]
    }
   ],
   "source": [
    "# part c\n",
    "model_lasso2 = Lasso(alpha = lassos['Alpha'].iloc[34])\n",
    "model_lasso2.fit(X_train, y_train)\n",
    "model_lasso_pred2 = model_lasso2.predict(X_test)\n",
    "\n",
    "MSE_lasso2 = mean_squared_error(y_test, model_lasso_pred2)\n",
    "r2_lasso = model_lasso2.score(X_train, y_train)\n",
    "\n",
    "print('Lasso Model: ')\n",
    "print('MSE: ', round(MSE_lasso2, 3))\n",
    "print('r2: ', round(r2_lasso, 5))"
   ]
  },
  {
   "cell_type": "markdown",
   "metadata": {
    "id": "J_GJz1PEfSw0"
   },
   "source": [
    "Before performing ridge and lasso regression, it is important to scale the independent variables to prevent overfitting. These regularization techniques hope to minimize the variance of normal linear regressions by penalizing features that do not contribute to variation in y. By scaling, we are allowing this penalty to be relevant to all coefficients."
   ]
  }
 ],
 "metadata": {
  "colab": {
   "collapsed_sections": [],
   "name": "Advanced_ML_HW1.ipynb",
   "provenance": []
  },
  "kernelspec": {
   "display_name": "Python 3.9.1 64-bit",
   "language": "python",
   "name": "python3"
  },
  "language_info": {
   "codemirror_mode": {
    "name": "ipython",
    "version": 3
   },
   "file_extension": ".py",
   "mimetype": "text/x-python",
   "name": "python",
   "nbconvert_exporter": "python",
   "pygments_lexer": "ipython3",
   "version": "3.9.1"
  },
  "vscode": {
   "interpreter": {
    "hash": "aee8b7b246df8f9039afb4144a1f6fd8d2ca17a180786b69acc140d282b71a49"
   }
  }
 },
 "nbformat": 4,
 "nbformat_minor": 4
}
